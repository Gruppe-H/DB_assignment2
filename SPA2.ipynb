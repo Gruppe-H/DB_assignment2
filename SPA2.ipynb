{
 "cells": [
  {
   "cell_type": "code",
   "execution_count": 1,
   "id": "2c556340-9c73-44f5-a05c-cea6cfb7c5b2",
   "metadata": {},
   "outputs": [],
   "source": [
    "import pandas as pd\n",
    "\n",
    "df1 = pd.read_csv('Materials/2016_-_Cities_Emissions_Reduction_Targets_20240207.csv')\n",
    "df2 = pd.read_csv('Materials/2016_-_Citywide_GHG_Emissions_20240207.csv')\n",
    "df3 = pd.read_csv('Materials/2017_-_Cities_Community_Wide_Emissions.csv')\n",
    "df4 = pd.read_csv('Materials/2017_-_Cities_Emissions_Reduction_Targets_20240207.csv')\n",
    "df5 = pd.read_csv('Materials/2023_Cities_Climate_Risk_and_Vulnerability_Assessments_20240207.csv')\n",
    "\n",
    "dataframes = [df1, df2, df3, df4, df5]"
   ]
  },
  {
   "cell_type": "code",
   "execution_count": 2,
   "id": "42d39cee-f0c5-49ef-afdd-7d0af6a29b8e",
   "metadata": {},
   "outputs": [],
   "source": [
    "ac = 'Organisation Number'\n",
    "ci = 'City'\n",
    "org = 'Organisation'\n",
    "co = 'Country'\n",
    "c40 = 'C40 City'\n",
    "em = 'Total emissions (metric tonnes CO2e)'\n",
    "pop = 'City Population'\n",
    "year = 'Reporting Year'\n",
    "\n",
    "for df in dataframes:\n",
    "    df.rename(columns={'Account No': ac, 'Organization Number': ac, 'Account number': ac,\n",
    "                       'Organization Name': org, 'Organization': org,\n",
    "                       'Country/Area': co,\n",
    "                       'City Short Name': ci,\n",
    "                       'Baseline emissions (metric tonnes CO2e)': em, 'Total City-wide Emissions (metric tonnes CO2e)': em,\n",
    "                       'Population': pop, 'Current Population': pop,\n",
    "                       'Reporting year': year,\n",
    "                       'C40': c40}, inplace=True)"
   ]
  },
  {
   "cell_type": "code",
   "execution_count": 3,
   "id": "f54a237d-4baf-4b58-b00b-87939236c046",
   "metadata": {},
   "outputs": [],
   "source": [
    "c40_to_bool = lambda x: False if pd.isnull(x) else (True if x == 'C40' else x)\n",
    "for df in dataframes:\n",
    "    df['C40 City'] = df['C40 City'].apply(c40_to_bool)"
   ]
  },
  {
   "cell_type": "code",
   "execution_count": 4,
   "id": "ad5242f2-c275-475a-81cd-f3dc4608066e",
   "metadata": {},
   "outputs": [],
   "source": [
    "import re\n",
    "\n",
    "def convert_to_geojson(value):\n",
    "    if isinstance(value, str): \n",
    "        match = re.match(r'POINT \\(([-+]?\\d*\\.\\d+) ([-+]?\\d*\\.\\d+)\\)', value)\n",
    "        if match:\n",
    "            coordinates = [float(match.group(1)), float(match.group(2))]\n",
    "            return {\"type\": \"Point\", \"coordinates\": coordinates}\n",
    "        elif value.startswith('(') and value.endswith(')'):\n",
    "            coordinates = [float(coord.strip()) for coord in value[1:-1].split(\",\")]\n",
    "            return {\"type\": \"Point\", \"coordinates\": coordinates}\n",
    "    else:\n",
    "        return value"
   ]
  },
  {
   "cell_type": "code",
   "execution_count": 5,
   "id": "a0ff8261-d67a-468b-8117-0bfa14176d48",
   "metadata": {},
   "outputs": [],
   "source": [
    "for df in dataframes:\n",
    "    for col in df.columns:\n",
    "        if 'Location' in col:\n",
    "            df[col] = df[col].apply(convert_to_geojson)"
   ]
  },
  {
   "cell_type": "code",
   "execution_count": 6,
   "id": "73137354-7b29-4dcd-b628-6d50dc847859",
   "metadata": {},
   "outputs": [],
   "source": [
    "for i,df in enumerate(dataframes):\n",
    "    json_data = df.to_json(orient='records')\n",
    "\n",
    "    filename = f'jsons/dataframe_{i + 1}.json'\n",
    "    with open(filename, 'w') as f:\n",
    "        f.write(json_data)"
   ]
  }
 ],
 "metadata": {
  "kernelspec": {
   "display_name": "Python 3 (ipykernel)",
   "language": "python",
   "name": "python3"
  },
  "language_info": {
   "codemirror_mode": {
    "name": "ipython",
    "version": 3
   },
   "file_extension": ".py",
   "mimetype": "text/x-python",
   "name": "python",
   "nbconvert_exporter": "python",
   "pygments_lexer": "ipython3",
   "version": "3.12.2"
  }
 },
 "nbformat": 4,
 "nbformat_minor": 5
}
